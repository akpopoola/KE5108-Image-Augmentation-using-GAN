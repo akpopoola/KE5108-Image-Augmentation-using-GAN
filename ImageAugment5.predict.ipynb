{
 "cells": [
  {
   "cell_type": "markdown",
   "metadata": {},
   "source": [
    "# Image Data Augmentation Using Deep Convolutional Generative Adversarial Network (DCGAN)\n",
    "# Model - Generate Images"
   ]
  },
  {
   "cell_type": "markdown",
   "metadata": {},
   "source": [
    "## Import Libraries"
   ]
  },
  {
   "cell_type": "code",
   "execution_count": 1,
   "metadata": {
    "collapsed": false
   },
   "outputs": [
    {
     "name": "stderr",
     "output_type": "stream",
     "text": [
      "Using TensorFlow backend.\n"
     ]
    }
   ],
   "source": [
    "import numpy as np\n",
    "import keras\n",
    "from keras import layers\n",
    "from PIL import Image"
   ]
  },
  {
   "cell_type": "markdown",
   "metadata": {},
   "source": [
    "## Load the selected trained GAN using the weights saved to file during model training"
   ]
  },
  {
   "cell_type": "code",
   "execution_count": 2,
   "metadata": {},
   "outputs": [
    {
     "name": "stdout",
     "output_type": "stream",
     "text": [
      "_________________________________________________________________\nLayer (type)                 Output Shape              Param #   \n=================================================================\ninput_1 (InputLayer)         (None, 128)               0         \n_________________________________________________________________\ndense_1 (Dense)              (None, 1048576)           135266304 \n_________________________________________________________________\nleaky_re_lu_1 (LeakyReLU)    (None, 1048576)           0         \n_________________________________________________________________\nreshape_1 (Reshape)          (None, 64, 64, 256)       0         \n_________________________________________________________________\nconv2d_1 (Conv2D)            (None, 64, 64, 256)       1638656   \n_________________________________________________________________\nleaky_re_lu_2 (LeakyReLU)    (None, 64, 64, 256)       0         \n_________________________________________________________________\nconv2d_transpose_1 (Conv2DTr (None, 128, 128, 256)     1048832   \n_________________________________________________________________\nleaky_re_lu_3 (LeakyReLU)    (None, 128, 128, 256)     0         \n_________________________________________________________________\nconv2d_2 (Conv2D)            (None, 128, 128, 256)     1638656   \n_________________________________________________________________\nleaky_re_lu_4 (LeakyReLU)    (None, 128, 128, 256)     0         \n_________________________________________________________________\nconv2d_3 (Conv2D)            (None, 128, 128, 256)     1638656   \n_________________________________________________________________\nleaky_re_lu_5 (LeakyReLU)    (None, 128, 128, 256)     0         \n_________________________________________________________________\nconv2d_4 (Conv2D)            (None, 128, 128, 5)       62725     \n=================================================================\nTotal params: 141,293,829\nTrainable params: 141,293,829\nNon-trainable params: 0\n_________________________________________________________________\n"
     ]
    }
   ],
   "source": [
    "# Generator\n",
    "latent_dim = 128\n",
    "height = 128\n",
    "width = 128\n",
    "channels = 5\n",
    "\n",
    "generator_input = keras.Input(shape=(latent_dim,))\n",
    "\n",
    "# First, transform the input into a 16x16 128-channels feature map\n",
    "x = layers.Dense(256 * 64 * 64)(generator_input)\n",
    "x = layers.LeakyReLU()(x)\n",
    "x = layers.Reshape((64, 64, 256))(x)\n",
    "\n",
    "# Then, add a convolution layer\n",
    "x = layers.Conv2D(256, 5, padding='same')(x)\n",
    "x = layers.LeakyReLU()(x)\n",
    "\n",
    "# Upsample to 32x32\n",
    "x = layers.Conv2DTranspose(256, 4, strides=2, padding='same')(x)\n",
    "x = layers.LeakyReLU()(x)\n",
    "\n",
    "# Few more conv layers\n",
    "x = layers.Conv2D(256, 5, padding='same')(x)\n",
    "x = layers.LeakyReLU()(x)\n",
    "x = layers.Conv2D(256, 5, padding='same')(x)\n",
    "x = layers.LeakyReLU()(x)\n",
    "\n",
    "# Produce a 32x32 1-channel feature map\n",
    "x = layers.Conv2D(channels, 7, activation='tanh', padding='same')(x)\n",
    "generator = keras.models.Model(generator_input, x)\n",
    "generator.summary()"
   ]
  },
  {
   "cell_type": "code",
   "execution_count": 3,
   "metadata": {},
   "outputs": [
    {
     "name": "stdout",
     "output_type": "stream",
     "text": [
      "_________________________________________________________________\nLayer (type)                 Output Shape              Param #   \n=================================================================\ninput_2 (InputLayer)         (None, 128, 128, 5)       0         \n_________________________________________________________________\nconv2d_5 (Conv2D)            (None, 126, 126, 128)     5888      \n_________________________________________________________________\nleaky_re_lu_6 (LeakyReLU)    (None, 126, 126, 128)     0         \n_________________________________________________________________\nconv2d_6 (Conv2D)            (None, 62, 62, 128)       262272    \n_________________________________________________________________\nleaky_re_lu_7 (LeakyReLU)    (None, 62, 62, 128)       0         \n_________________________________________________________________\nconv2d_7 (Conv2D)            (None, 30, 30, 128)       262272    \n_________________________________________________________________\nleaky_re_lu_8 (LeakyReLU)    (None, 30, 30, 128)       0         \n_________________________________________________________________\nconv2d_8 (Conv2D)            (None, 14, 14, 128)       262272    \n_________________________________________________________________\nleaky_re_lu_9 (LeakyReLU)    (None, 14, 14, 128)       0         \n_________________________________________________________________\nconv2d_9 (Conv2D)            (None, 6, 6, 128)         262272    \n_________________________________________________________________\nleaky_re_lu_10 (LeakyReLU)   (None, 6, 6, 128)         0         \n_________________________________________________________________\nconv2d_10 (Conv2D)           (None, 2, 2, 128)         262272    \n_________________________________________________________________\nleaky_re_lu_11 (LeakyReLU)   (None, 2, 2, 128)         0         \n_________________________________________________________________\nflatten_1 (Flatten)          (None, 512)               0         \n_________________________________________________________________\ndropout_1 (Dropout)          (None, 512)               0         \n_________________________________________________________________\ndense_2 (Dense)              (None, 1)                 513       \n=================================================================\nTotal params: 1,317,761\nTrainable params: 1,317,761\nNon-trainable params: 0\n_________________________________________________________________\n"
     ]
    }
   ],
   "source": [
    "# Discriminator\n",
    "discriminator_input = layers.Input(shape=(height, width, channels))\n",
    "x = layers.Conv2D(128, 3)(discriminator_input)\n",
    "x = layers.LeakyReLU()(x)\n",
    "x = layers.Conv2D(128, 4, strides=2)(x)\n",
    "x = layers.LeakyReLU()(x)\n",
    "x = layers.Conv2D(128, 4, strides=2)(x)\n",
    "x = layers.LeakyReLU()(x)\n",
    "x = layers.Conv2D(128, 4, strides=2)(x)\n",
    "x = layers.LeakyReLU()(x)\n",
    "\n",
    "x = layers.Conv2D(128, 4, strides=2)(x)\n",
    "x = layers.LeakyReLU()(x)\n",
    "x = layers.Conv2D(128, 4, strides=2)(x)\n",
    "x = layers.LeakyReLU()(x)\n",
    "\n",
    "x = layers.Flatten()(x)\n",
    "\n",
    "# One dropout layer - important trick!\n",
    "x = layers.Dropout(0.4)(x)\n",
    "\n",
    "# Classification layer\n",
    "x = layers.Dense(1, activation='sigmoid')(x)\n",
    "\n",
    "discriminator = keras.models.Model(discriminator_input, x)\n",
    "discriminator.summary()\n",
    "\n",
    "# To stabilize training, we use learning rate decay\n",
    "# and gradient clipping (by value) in the optimizer.\n",
    "discriminator_optimizer = keras.optimizers.RMSprop(lr=0.0004, clipvalue=1.0, decay=1e-8)\n",
    "discriminator.compile(optimizer=discriminator_optimizer, loss='binary_crossentropy')"
   ]
  },
  {
   "cell_type": "code",
   "execution_count": 4,
   "metadata": {},
   "outputs": [],
   "source": [
    "# Set discriminator weights to non-trainable\n",
    "# (will only apply to the `gan` model)\n",
    "discriminator.trainable = False\n",
    "\n",
    "gan_input = keras.Input(shape=(latent_dim,))\n",
    "gan_output = discriminator(generator(gan_input))\n",
    "gan = keras.models.Model(gan_input, gan_output)\n",
    "\n",
    "gan_optimizer = keras.optimizers.RMSprop(lr=0.0002, clipvalue=1.0, decay=1e-8)\n",
    "gan.compile(optimizer=gan_optimizer, loss='binary_crossentropy')"
   ]
  },
  {
   "cell_type": "code",
   "execution_count": 5,
   "metadata": {},
   "outputs": [],
   "source": [
    "# Load the weights from file.\n",
    "gan.load_weights('.\\data\\\\gan_model\\\\gan4500.h5')"
   ]
  },
  {
   "cell_type": "markdown",
   "metadata": {},
   "source": [
    "## Generate the GAN images and mask. Save to file."
   ]
  },
  {
   "cell_type": "code",
   "execution_count": 6,
   "metadata": {},
   "outputs": [],
   "source": [
    "import string\n",
    "from random import *\n",
    "\n",
    "max_char = 12\n",
    "allchar = string.ascii_letters + string.digits\n",
    "num_generated_images = 100\n",
    "bw_threshold = 230\n",
    "save_dir = '.\\data\\\\gan_generated_images\\\\'\n",
    "\n",
    "# Sample random points in the latent space\n",
    "random_latent_vectors = np.random.normal(size=(num_generated_images, latent_dim))\n",
    "\n",
    "# Decode them to fake images\n",
    "generated_images = generator.predict(random_latent_vectors)\n",
    "    \n",
    "for i in range(generated_images.shape[0]):\n",
    "\n",
    "    # Separate the image and mask\n",
    "    img_arr = (generated_images[i][:, :, :4] * 255.).astype(np.uint8)\n",
    "    mask_arr = (generated_images[i][:, :, 4] * 255.).astype(np.uint8)\n",
    "    mask_arr[mask_arr > bw_threshold] = 255\n",
    "    mask_arr[mask_arr < 255] = 0\n",
    "        \n",
    "    # Save as png files.\n",
    "    img = Image.fromarray(img_arr, mode='RGBA')\n",
    "    a_filename = \"\".join(choice(allchar) for x in range(max_char))\n",
    "    img.save(save_dir + a_filename + '_image.png')\n",
    "    mask = Image.fromarray(mask_arr, mode='L')\n",
    "    mask.save(save_dir + a_filename + '_mask.png')"
   ]
  },
  {
   "cell_type": "code",
   "execution_count": 7,
   "metadata": {},
   "outputs": [],
   "source": []
  }
 ],
 "metadata": {
  "kernelspec": {
   "display_name": "Python 2",
   "language": "python",
   "name": "python2"
  },
  "language_info": {
   "codemirror_mode": {
    "name": "ipython",
    "version": 2
   },
   "file_extension": ".py",
   "mimetype": "text/x-python",
   "name": "python",
   "nbconvert_exporter": "python",
   "pygments_lexer": "ipython2",
   "version": "2.7.6"
  }
 },
 "nbformat": 4,
 "nbformat_minor": 0
}
