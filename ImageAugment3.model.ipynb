{
 "cells": [
  {
   "cell_type": "markdown",
   "metadata": {
    "collapsed": true
   },
   "source": [
    "# Image Data Augmentation Using Deep Convolutional Generative Adversarial Network (DCGAN)\n",
    "# Models"
   ]
  },
  {
   "cell_type": "markdown",
   "metadata": {},
   "source": [
    "## Load Libraries"
   ]
  },
  {
   "cell_type": "code",
   "execution_count": 1,
   "metadata": {},
   "outputs": [
    {
     "name": "stderr",
     "output_type": "stream",
     "text": [
      "/home/tkokkeng/python/venv/tensorflow-3.6-venv/lib/python3.6/site-packages/h5py/__init__.py:36: FutureWarning: Conversion of the second argument of issubdtype from `float` to `np.floating` is deprecated. In future, it will be treated as `np.float64 == np.dtype(float).type`.\n  from ._conv import register_converters as _register_converters\nUsing TensorFlow backend.\n"
     ]
    }
   ],
   "source": [
    "%matplotlib inline\n",
    "\n",
    "import numpy as np\n",
    "import keras\n",
    "from keras import layers\n",
    "import os\n",
    "from keras.preprocessing import image\n",
    "import myUtilities as myUtils"
   ]
  },
  {
   "cell_type": "markdown",
   "metadata": {},
   "source": [
    "## Generator Model\n",
    "\n",
    "Follows the DCGAN model from Deep Learning with Python by Francis Chollet"
   ]
  },
  {
   "cell_type": "code",
   "execution_count": 2,
   "metadata": {},
   "outputs": [
    {
     "name": "stdout",
     "output_type": "stream",
     "text": [
      "_________________________________________________________________\nLayer (type)                 Output Shape              Param #   \n=================================================================\ninput_1 (InputLayer)         (None, 256)               0         \n_________________________________________________________________\ndense_1 (Dense)              (None, 2097152)           538968064 \n_________________________________________________________________\nleaky_re_lu_1 (LeakyReLU)    (None, 2097152)           0         \n_________________________________________________________________\nreshape_1 (Reshape)          (None, 128, 128, 128)     0         \n_________________________________________________________________\nconv2d_1 (Conv2D)            (None, 128, 128, 256)     819456    \n_________________________________________________________________\nleaky_re_lu_2 (LeakyReLU)    (None, 128, 128, 256)     0         \n_________________________________________________________________\nconv2d_transpose_1 (Conv2DTr (None, 256, 256, 256)     1048832   \n_________________________________________________________________\nleaky_re_lu_3 (LeakyReLU)    (None, 256, 256, 256)     0         \n_________________________________________________________________\nconv2d_2 (Conv2D)            (None, 256, 256, 256)     1638656   \n_________________________________________________________________\nleaky_re_lu_4 (LeakyReLU)    (None, 256, 256, 256)     0         \n_________________________________________________________________\nconv2d_3 (Conv2D)            (None, 256, 256, 256)     1638656   \n_________________________________________________________________\nleaky_re_lu_5 (LeakyReLU)    (None, 256, 256, 256)     0         \n_________________________________________________________________\nconv2d_4 (Conv2D)            (None, 256, 256, 5)       62725     \n=================================================================\nTotal params: 544,176,389\nTrainable params: 544,176,389\nNon-trainable params: 0\n_________________________________________________________________\n"
     ]
    }
   ],
   "source": [
    "latent_dim = 256\n",
    "height = 256\n",
    "width = 256\n",
    "channels = 5\n",
    "\n",
    "generator_input = keras.Input(shape=(latent_dim,))\n",
    "\n",
    "# First, transform the input into a 16x16 128-channels feature map\n",
    "x = layers.Dense(128 * 128 * 128)(generator_input)\n",
    "x = layers.LeakyReLU()(x)\n",
    "x = layers.Reshape((128, 128, 128))(x)\n",
    "\n",
    "# Then, add a convolution layer\n",
    "x = layers.Conv2D(256, 5, padding='same')(x)\n",
    "x = layers.LeakyReLU()(x)\n",
    "\n",
    "# Upsample to 32x32\n",
    "x = layers.Conv2DTranspose(256, 4, strides=2, padding='same')(x)\n",
    "x = layers.LeakyReLU()(x)\n",
    "\n",
    "# Few more conv layers\n",
    "x = layers.Conv2D(256, 5, padding='same')(x)\n",
    "x = layers.LeakyReLU()(x)\n",
    "x = layers.Conv2D(256, 5, padding='same')(x)\n",
    "x = layers.LeakyReLU()(x)\n",
    "\n",
    "# Produce a 32x32 1-channel feature map\n",
    "x = layers.Conv2D(channels, 7, activation='tanh', padding='same')(x)\n",
    "generator = keras.models.Model(generator_input, x)\n",
    "generator.summary()"
   ]
  },
  {
   "cell_type": "markdown",
   "metadata": {},
   "source": [
    "## Discriminator Model"
   ]
  },
  {
   "cell_type": "code",
   "execution_count": 3,
   "metadata": {},
   "outputs": [
    {
     "name": "stdout",
     "output_type": "stream",
     "text": [
      "_________________________________________________________________\nLayer (type)                 Output Shape              Param #   \n=================================================================\ninput_2 (InputLayer)         (None, 256, 256, 5)       0         \n_________________________________________________________________\nconv2d_5 (Conv2D)            (None, 254, 254, 128)     5888      \n_________________________________________________________________\nleaky_re_lu_6 (LeakyReLU)    (None, 254, 254, 128)     0         \n_________________________________________________________________\nconv2d_6 (Conv2D)            (None, 126, 126, 128)     262272    \n_________________________________________________________________\nleaky_re_lu_7 (LeakyReLU)    (None, 126, 126, 128)     0         \n_________________________________________________________________\nconv2d_7 (Conv2D)            (None, 62, 62, 128)       262272    \n_________________________________________________________________\nleaky_re_lu_8 (LeakyReLU)    (None, 62, 62, 128)       0         \n_________________________________________________________________\nconv2d_8 (Conv2D)            (None, 30, 30, 128)       262272    \n_________________________________________________________________\nleaky_re_lu_9 (LeakyReLU)    (None, 30, 30, 128)       0         \n_________________________________________________________________\nflatten_1 (Flatten)          (None, 115200)            0         \n_________________________________________________________________\ndropout_1 (Dropout)          (None, 115200)            0         \n_________________________________________________________________\ndense_2 (Dense)              (None, 1)                 115201    \n=================================================================\nTotal params: 907,905\nTrainable params: 907,905\nNon-trainable params: 0\n_________________________________________________________________\n"
     ]
    }
   ],
   "source": [
    "discriminator_input = layers.Input(shape=(height, width, channels))\n",
    "x = layers.Conv2D(128, 3)(discriminator_input)\n",
    "x = layers.LeakyReLU()(x)\n",
    "x = layers.Conv2D(128, 4, strides=2)(x)\n",
    "x = layers.LeakyReLU()(x)\n",
    "x = layers.Conv2D(128, 4, strides=2)(x)\n",
    "x = layers.LeakyReLU()(x)\n",
    "x = layers.Conv2D(128, 4, strides=2)(x)\n",
    "x = layers.LeakyReLU()(x)\n",
    "x = layers.Flatten()(x)\n",
    "\n",
    "# One dropout layer - important trick!\n",
    "x = layers.Dropout(0.4)(x)\n",
    "\n",
    "# Classification layer\n",
    "x = layers.Dense(1, activation='sigmoid')(x)\n",
    "\n",
    "discriminator = keras.models.Model(discriminator_input, x)\n",
    "discriminator.summary()\n",
    "\n",
    "# To stabilize training, we use learning rate decay\n",
    "# and gradient clipping (by value) in the optimizer.\n",
    "discriminator_optimizer = keras.optimizers.RMSprop(lr=0.0008, clipvalue=1.0, decay=1e-8)\n",
    "discriminator.compile(optimizer=discriminator_optimizer, loss='binary_crossentropy')"
   ]
  },
  {
   "cell_type": "markdown",
   "metadata": {},
   "source": [
    "## The Adversarial Network Model"
   ]
  },
  {
   "cell_type": "code",
   "execution_count": 4,
   "metadata": {},
   "outputs": [],
   "source": [
    "# Set discriminator weights to non-trainable\n",
    "# (will only apply to the `gan` model)\n",
    "discriminator.trainable = False\n",
    "\n",
    "gan_input = keras.Input(shape=(latent_dim,))\n",
    "gan_output = discriminator(generator(gan_input))\n",
    "gan = keras.models.Model(gan_input, gan_output)\n",
    "\n",
    "gan_optimizer = keras.optimizers.RMSprop(lr=0.0004, clipvalue=1.0, decay=1e-8)\n",
    "gan.compile(optimizer=gan_optimizer, loss='binary_crossentropy')"
   ]
  },
  {
   "cell_type": "markdown",
   "metadata": {},
   "source": [
    "## Training the Model"
   ]
  },
  {
   "cell_type": "code",
   "execution_count": 5,
   "metadata": {},
   "outputs": [],
   "source": [
    "# Load data\n",
    "#(x_train, y_train), (_, _) = keras.datasets.cifar10.load_data()\n",
    "x_train = myUtils.load_preprocessed_data()\n",
    "\n",
    "# Select frog images (class 6)\n",
    "#x_train = x_train[y_train.flatten() == 6]\n",
    "\n",
    "# Normalize data\n",
    "# x_train = x_train.reshape(\n",
    "#     (x_train.shape[0],) + (height, width, channels)).astype('float32') / 255.\n",
    "x_train = x_train.astype('float32') / 255.\n",
    "\n",
    "iterations = 10000\n",
    "batch_size = 20\n",
    "save_dir = 'gan_images/'\n",
    "\n",
    "# Start training loop\n",
    "start = 0\n",
    "for step in range(iterations):\n",
    "    # Sample random points in the latent space\n",
    "    random_latent_vectors = np.random.normal(size=(batch_size, latent_dim))\n",
    "\n",
    "    # Decode them to fake images\n",
    "    generated_images = generator.predict(random_latent_vectors)\n",
    "\n",
    "    # Combine them with real images\n",
    "    stop = start + batch_size\n",
    "    real_images = x_train[start: stop]\n",
    "    combined_images = np.concatenate([generated_images, real_images])\n",
    "\n",
    "    # Assemble labels discriminating real from fake images\n",
    "    labels = np.concatenate([np.ones((batch_size, 1)),\n",
    "                             np.zeros((batch_size, 1))])\n",
    "    # Add random noise to the labels - important trick!\n",
    "    labels += 0.05 * np.random.random(labels.shape)\n",
    "\n",
    "    # Train the discriminator\n",
    "    d_loss = discriminator.train_on_batch(combined_images, labels)\n",
    "\n",
    "    # sample random points in the latent space\n",
    "    random_latent_vectors = np.random.normal(size=(batch_size, latent_dim))\n",
    "\n",
    "    # Assemble labels that say \"all real images\"\n",
    "    misleading_targets = np.zeros((batch_size, 1))\n",
    "\n",
    "    # Train the generator (via the gan model,\n",
    "    # where the discriminator weights are frozen)\n",
    "    a_loss = gan.train_on_batch(random_latent_vectors, misleading_targets)\n",
    "    \n",
    "    start += batch_size\n",
    "    if start > len(x_train) - batch_size:\n",
    "      start = 0\n",
    "\n",
    "    # Occasionally save / plot\n",
    "    if step % 100 == 0:\n",
    "        # Save model weights\n",
    "        gan.save_weights('gan.h5')\n",
    "\n",
    "        # Print metrics\n",
    "        print('discriminator loss at step %s: %s' % (step, d_loss))\n",
    "        print('adversarial loss at step %s: %s' % (step, a_loss))\n",
    "\n",
    "        # Save one generated image\n",
    "        # img = image.array_to_img(generated_images[0] * 255., scale=False)\n",
    "        # img.save(os.path.join(save_dir, 'generated_frog' + str(step) + '.png'))\n",
    "        np.save(save_dir + 'generated_' + str(step), generated_images[0] * 255.)\n",
    "\n",
    "        # Save one real image, for comparison\n",
    "        # img = image.array_to_img(real_images[0] * 255., scale=False)\n",
    "        # img.save(os.path.join(save_dir, 'real_frog' + str(step) + '.png'))\n",
    "        np.save(save_dir + 'real_' + str(step), real_images[0] * 255.)"
   ]
  },
  {
   "cell_type": "code",
   "execution_count": null,
   "metadata": {},
   "outputs": [],
   "source": []
  }
 ],
 "metadata": {
  "kernelspec": {
   "display_name": "Python 2",
   "language": "python",
   "name": "python2"
  },
  "language_info": {
   "codemirror_mode": {
    "name": "ipython",
    "version": 2
   },
   "file_extension": ".py",
   "mimetype": "text/x-python",
   "name": "python",
   "nbconvert_exporter": "python",
   "pygments_lexer": "ipython2",
   "version": "2.7.6"
  }
 },
 "nbformat": 4,
 "nbformat_minor": 0
}
